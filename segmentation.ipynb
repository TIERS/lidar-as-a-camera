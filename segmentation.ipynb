{
 "cells": [
  {
   "cell_type": "code",
   "execution_count": 8,
   "metadata": {},
   "outputs": [],
   "source": [
    "import os\n",
    "import torch\n",
    "from PIL import Image\n",
    "import torchvision.transforms as T\n",
    "import matplotlib.pyplot as plt\n",
    "from torchvision.models import detection\n",
    "import numpy as np\n",
    "import random\n",
    "import cv2\n",
    "from skimage.io import imread\n",
    "from collections import Counter\n",
    "import pixellib\n",
    "from pixellib.torchbackend.instance import instanceSegmentation\n",
    "# from pixellib.instance import instance_segmentation"
   ]
  },
  {
   "cell_type": "code",
   "execution_count": 9,
   "metadata": {},
   "outputs": [],
   "source": [
    "model_name = 'pointrend'  #'pointrend' 'mask-rcnn'\n",
    "images_folder = './images/signal_images/'\n",
    "detected_thresh = 0.4\n",
    "dim = (1000,300)\n",
    "CUDA_LAUNCH_BLOCKING=1\n",
    "COCO_INSTANCE_CATEGORY_NAMES = open(\"coco_names.txt\", \"r\").read().split(\",\")\n",
    "# print(COCO_INSTANCE_CATEGORY_NAMES)"
   ]
  },
  {
   "cell_type": "code",
   "execution_count": 11,
   "metadata": {},
   "outputs": [
    {
     "name": "stderr",
     "output_type": "stream",
     "text": [
      "The checkpoint state_dict contains keys that are not used by the model:\n",
      "  \u001b[35mproposal_generator.anchor_generator.cell_anchors.{0, 1, 2, 3, 4}\u001b[0m\n"
     ]
    }
   ],
   "source": [
    "if model_name == 'mask-rcnn':\n",
    "    model = detection.maskrcnn_resnet50_fpn(pretrained=True)\n",
    "    model.eval()\n",
    "elif model_name == 'pointrend':\n",
    "    model = instanceSegmentation()\n",
    "    model.load_model(\"pointrend_resnet50.pkl\", confidence = detected_thresh)\n"
   ]
  },
  {
   "cell_type": "code",
   "execution_count": 12,
   "metadata": {},
   "outputs": [],
   "source": [
    "def get_prediction(img_path, threshold):\n",
    "    img = imread(img_path)\n",
    "    # img = Image.open(img_path)\n",
    "    image = cv2.resize(img, dim, interpolation = cv2.INTER_AREA)\n",
    "    image = Image.fromarray(image)\n",
    "    transform = T.Compose([T.ToTensor()])\n",
    "    img = transform(image)\n",
    "    pred = model([img])\n",
    "    pred_score = list(pred[0]['scores'].detach().numpy())\n",
    "    pred_t = [pred_score.index(x) for x in pred_score if x>threshold][-1]\n",
    "    masks = (pred[0]['masks']>0.5).squeeze().detach().cpu().numpy()\n",
    "    pred_class = [COCO_INSTANCE_CATEGORY_NAMES[i] for i in list(pred[0]['labels'].numpy())]\n",
    "    pred_boxes = [[(i[0], i[1]), (i[2], i[3])] for i in list(pred[0]['boxes'].detach().numpy())]\n",
    "    masks = masks[:pred_t+1]\n",
    "    pred_boxes = pred_boxes[:pred_t+1]\n",
    "    pred_class = pred_class[:pred_t+1]\n",
    "    return masks, pred_boxes, pred_class"
   ]
  },
  {
   "cell_type": "code",
   "execution_count": 13,
   "metadata": {},
   "outputs": [],
   "source": [
    "def random_colour_masks(image):\n",
    "    colours = [[0, 255, 0],[0, 0, 255],[255, 0, 0],[0, 255, 255],[255, 255, 0],[255, 0, 255],[80, 70, 180],[250, 80, 190],[245, 145, 50],[70, 150, 250],[50, 190, 190]]\n",
    "    r = np.zeros_like(image).astype(np.uint8)\n",
    "    g = np.zeros_like(image).astype(np.uint8)\n",
    "    b = np.zeros_like(image).astype(np.uint8)\n",
    "    r[image == 1], g[image == 1], b[image == 1] = colours[random.randrange(0,10)]\n",
    "    coloured_mask = np.stack([r, g, b], axis=2)\n",
    "    return coloured_mask"
   ]
  },
  {
   "cell_type": "code",
   "execution_count": 14,
   "metadata": {},
   "outputs": [],
   "source": [
    "def instance_segmentation_api(img_path, img_num, threshold=0.5, rect_th=3, text_size=3, text_th=3):\n",
    "    masks, boxes, pred_cls = get_prediction(img_path, threshold)\n",
    "    # print(pred_cls)\n",
    "    img = cv2.imread(img_path, 0)\n",
    "    img = cv2.resize(img, dim, interpolation = cv2.INTER_AREA)\n",
    "    img = cv2.cvtColor(img, cv2.COLOR_BGR2RGB)\n",
    "    for i in range(len(masks)):\n",
    "        rgb_mask = random_colour_masks(masks[i])\n",
    "        img = cv2.addWeighted(img, 1, rgb_mask, 0.5, 0)\n",
    "\n",
    "#         cv2.rectangle(img, boxes[i][0], boxes[i][1],color=(0, 255, 0), thickness=rect_th)\n",
    "#         cv2.putText(img,pred_cls[i], boxes[i][0], cv2.FONT_HERSHEY_SIMPLEX, text_size, (0,255,0),thickness=text_th)\n",
    "    # plt.figure(figsize=(10,10))\n",
    "    # plt.imshow(img)\n",
    "    # plt.xticks([])\n",
    "    # plt.yticks([])\n",
    "    # plt.show()\n",
    "    cv2.imwrite('./results/images_segmented_{}_{}.png'.format(model_name, img_num), img)"
   ]
  },
  {
   "cell_type": "code",
   "execution_count": 26,
   "metadata": {},
   "outputs": [
    {
     "name": "stdout",
     "output_type": "stream",
     "text": [
      "(128, 2048)\n",
      "(128, 2048)\n",
      "(128, 2048)\n",
      "(128, 2048)\n",
      "(128, 2048)\n",
      "(128, 2048)\n",
      "(128, 2048)\n",
      "(128, 2048)\n",
      "(128, 2048)\n",
      "(128, 2048)\n",
      "(128, 2048)\n",
      "(128, 2048)\n"
     ]
    }
   ],
   "source": [
    "data_list = os.listdir(images_folder)\n",
    "pred = []\n",
    "\n",
    "for i in range(len(data_list)):\n",
    "    img_path = os.path.join(images_folder, data_list[i])\n",
    "    if model_name == 'mask-rcnn':\n",
    "        instance_segmentation_api(img_path, i)\n",
    "    elif model_name == 'pointrend':\n",
    "        img = cv2.imread(img_path, 0)\n",
    "        img = cv2.resize(img, dim, interpolation = cv2.INTER_AREA)\n",
    "        img = cv2.cvtColor(img, cv2.COLOR_BGR2RGB)\n",
    "        model.segmentFrame(img, show_bboxes=True, output_image_name='./results/images_segmented_{}_{}.png'.format(model_name, i))"
   ]
  }
 ],
 "metadata": {
  "interpreter": {
   "hash": "24cb3a75b0395e255665a458a571e10fc9a1fed910e3a019ca21f35f9b4dfb68"
  },
  "kernelspec": {
   "display_name": "Python 3.6.12 ('cv-env')",
   "language": "python",
   "name": "python3"
  },
  "language_info": {
   "codemirror_mode": {
    "name": "ipython",
    "version": 3
   },
   "file_extension": ".py",
   "mimetype": "text/x-python",
   "name": "python",
   "nbconvert_exporter": "python",
   "pygments_lexer": "ipython3",
   "version": "3.7.0"
  },
  "orig_nbformat": 4
 },
 "nbformat": 4,
 "nbformat_minor": 2
}
